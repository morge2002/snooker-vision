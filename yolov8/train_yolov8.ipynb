{
 "cells": [
  {
   "cell_type": "code",
   "execution_count": null,
   "id": "initial_id",
   "metadata": {
    "collapsed": true
   },
   "outputs": [],
   "source": [
    "from ultralytics import YOLO"
   ]
  },
  {
   "cell_type": "code",
   "outputs": [],
   "source": [
    "dataset_path = \"dataset/snooker-vision.v5i.yolov8/data.yaml\"\n",
    "weights_path = \"runs/detect/train13/weights/best.pt\""
   ],
   "metadata": {
    "collapsed": false
   },
   "id": "13d7d6a71b5766a3"
  },
  {
   "cell_type": "code",
   "outputs": [],
   "source": [
    "# Train the model\n",
    "model = YOLO(\"yolov8n.pt\")\n",
    "model.train(data=dataset_path, epochs=100, imgsz=640, batch=-1)"
   ],
   "metadata": {
    "collapsed": false
   },
   "id": "c7f6fc6d53963cd6"
  },
  {
   "cell_type": "code",
   "outputs": [],
   "source": [
    "# Export the model\n",
    "# model = YOLO(weights_path)\n",
    "# model.export(format=\"openvino\")  # creates 'yolov8n_openvino_model/'"
   ],
   "metadata": {
    "collapsed": false
   },
   "id": "a6418bebaea2f009"
  }
 ],
 "metadata": {
  "kernelspec": {
   "display_name": "Python 3",
   "language": "python",
   "name": "python3"
  },
  "language_info": {
   "codemirror_mode": {
    "name": "ipython",
    "version": 2
   },
   "file_extension": ".py",
   "mimetype": "text/x-python",
   "name": "python",
   "nbconvert_exporter": "python",
   "pygments_lexer": "ipython2",
   "version": "2.7.6"
  }
 },
 "nbformat": 4,
 "nbformat_minor": 5
}
